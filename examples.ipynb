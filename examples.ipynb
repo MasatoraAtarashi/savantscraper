{
 "cells": [
  {
   "cell_type": "markdown",
   "metadata": {},
   "source": [
    "# Baseball Savant Data Scraping Example\n",
    "\n",
    "## Example Database Creation\n",
    "\n",
    "This example creates a small sample of the full database saved to \"baseball_savant.db\", a portable SQLite database."
   ]
  },
  {
   "cell_type": "code",
   "execution_count": null,
   "metadata": {},
   "outputs": [],
   "source": [
    "import sqlite3\n",
    "import pandas as pd\n",
    "import savantscraper\n",
    "\n",
    "# Example for two years and two teams\n",
    "savantscraper.database_import('baseball_savant',\n",
    "                              (2017, 2018),\n",
    "                              teams=['STL', 'COL'])\n"
   ]
  },
  {
   "cell_type": "markdown",
   "metadata": {},
   "source": [
    "## Example Query\n",
    "\n",
    "This example connects to the database and creates a pandas dataframe from a simple query."
   ]
  },
  {
   "cell_type": "code",
   "execution_count": null,
   "metadata": {},
   "outputs": [],
   "source": [
    "# Connect to the database\n",
    "conn = sqlite3.connect('baseball_savant.db')\n",
    "\n",
    "# Query the database and load into a pandas dataframe\n",
    "df = pd.read_sql_query(\"select player_name, vx0 from statcast limit 5;\", conn)\n",
    "\n",
    "# Close connection when finished\n",
    "conn.close()\n",
    "\n",
    "df"
   ]
  },
  {
   "cell_type": "code",
   "execution_count": null,
   "metadata": {},
   "outputs": [],
   "source": []
  }
 ],
 "metadata": {
  "anaconda-cloud": {},
  "kernelspec": {
   "display_name": "Python [conda env:py36]",
   "language": "python",
   "name": "conda-env-py36-py"
  },
  "language_info": {
   "codemirror_mode": {
    "name": "ipython",
    "version": 3
   },
   "file_extension": ".py",
   "mimetype": "text/x-python",
   "name": "python",
   "nbconvert_exporter": "python",
   "pygments_lexer": "ipython3",
   "version": "3.6.7"
  }
 },
 "nbformat": 4,
 "nbformat_minor": 1
}
