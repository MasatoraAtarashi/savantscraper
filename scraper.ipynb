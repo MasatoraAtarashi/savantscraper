{
 "cells": [
  {
   "cell_type": "markdown",
   "metadata": {},
   "source": [
    "## Baseball Savant Data Scraping\n",
    "\n",
    "#### Data Details\n",
    "\n",
    "This code pulls data from the Baseball Savant [statcast search tool](https://baseballsavant.mlb.com/statcast_search). It is the equivalent of downloading CSVs from the website. The website limits query time and only returns the first 1,000 observations, so the code loops through query options to pull all of the data from 2008-2016. \n",
    "\n",
    "The code loops through the following characteristic to make sure the queries abide by the website's limitations:\n",
    "   - Years\n",
    "   - Teams (the batting team)\n",
    "   - Home/Away\n",
    "   - Outs\n",
    "   - Innings (1-9 and 10+)\n",
    "    \n",
    "#### Output\n",
    "\n",
    "The loop input changes the link to the data CSV which is read into a dataframe. The entire data source is pretty large, so each dataframe is then appended to a SQLite table. See [metadata](metadata.md).\n",
    "\n",
    "[Return to Main](README.md)"
   ]
  },
  {
   "cell_type": "code",
   "execution_count": null,
   "metadata": {
    "collapsed": true
   },
   "outputs": [],
   "source": [
    "import requests\n",
    "import os\n",
    "import pandas as pd\n",
    "import sqlite3\n",
    "from tqdm import tqdm\n",
    "import time"
   ]
  },
  {
   "cell_type": "code",
   "execution_count": null,
   "metadata": {
    "collapsed": true
   },
   "outputs": [],
   "source": [
    "# Connect to database\n",
    "savant = sqlite3.connect('BaseballSavant.db')\n",
    "\n",
    "# List of teams\n",
    "teams = ['LAA', 'HOU', 'OAK', 'TOR', 'ATL', 'MIL', 'STL', \n",
    "         'CHC', 'ARI', 'LAD', 'SF', 'CLE', 'SEA', 'MIA', \n",
    "         'NYM', 'WSH', 'BAL', 'SD', 'PHI', 'PIT', 'TEX', \n",
    "         'TB', 'BOS', 'CIN', 'COL', 'KC', 'DET', 'MIN', \n",
    "         'CWS', 'NYY']\n",
    "\n",
    "# List of Home/Road\n",
    "loc = ['Home', 'Road']\n",
    "\n",
    "# List of out combinations\n",
    "outl = ['0', '1', '2%7C3']"
   ]
  },
  {
   "cell_type": "code",
   "execution_count": null,
   "metadata": {
    "collapsed": false
   },
   "outputs": [],
   "source": [
    "# Year loop\n",
    "for year in tqdm(range(2008, 2017), desc = 'Years'):\n",
    "    # Team loop\n",
    "    for team in teams:\n",
    "        # Home/Away loop\n",
    "        for home_away in loc:\n",
    "            # Outs loop\n",
    "            for outs in outl:\n",
    "                # Inning loop\n",
    "                for inning in range(1,11):\n",
    "                    # Query link is based on loop input\n",
    "                    link = 'https://baseballsavant.mlb.com/statcast_search/csv?all=true&hfPT=&hfZ=&hfGT=R%7CPO%7CS%7C&hfPR=&hfAB=&stadium=&hfBBT=&hfBBL=&hfC=&season=' + str(year) + '&player_type=batter&hfOuts=' + outs + '%7C&pitcher_throws=&batter_stands=&start_speed_gt=&start_speed_lt=&perceived_speed_gt=&perceived_speed_lt=&spin_rate_gt=&spin_rate_lt=&exit_velocity_gt=&exit_velocity_lt=&launch_angle_gt=&launch_angle_lt=&distance_gt=&distance_lt=&batted_ball_angle_gt=&batted_ball_angle_lt=&game_date_gt=&game_date_lt=&team=' + team + '&position=&hfRO=&home_road=' + home_away + '&hfInn=' + str(inning) + '%7C&min_pitches=0&min_results=0&group_by=name&sort_col=pitches&player_event_sort=start_speed&sort_order=desc&min_abs=0&xba_gt=&xba_lt=&px1=&px2=&pz1=&pz2=&ss_gt=&ss_lt=&is_barrel=&type=details&'\n",
    "                    try:\n",
    "                        # Read in query CSV as dataframe\n",
    "                        data = pd.read_csv(link)\n",
    "                    except HTTPError:\n",
    "                        # If there is an error, sleep and try one more time\n",
    "                        time.sleep(10)\n",
    "                        # Read in query CSV as dataframe\n",
    "                        data = pd.read_csv(link)\n",
    "                    # Rename player_name to denote that it is the batter\n",
    "                    data.rename(columns={'player_name' : 'batter_name'}, inplace=True)\n",
    "                    # Append the dataframe to the data\n",
    "                    pd.io.sql.to_sql(data, name = 'statcast', con = savant, if_exists='append')"
   ]
  },
  {
   "cell_type": "code",
   "execution_count": null,
   "metadata": {
    "collapsed": true
   },
   "outputs": [],
   "source": [
    "# Delete any duplicate pitches\n",
    "s = savant.cursor()\n",
    "\n",
    "s.execute('''DELETE FROM statcast WHERE rowid NOT IN (SELECT MIN(rowid) FROM statcast GROUP BY game_pk, pitch_id, game_year, inning, outs_when_up)''')\n",
    "\n",
    "# Commit and close connection\n",
    "savant.commit() \n",
    "savant.close()"
   ]
  },
  {
   "cell_type": "code",
   "execution_count": null,
   "metadata": {
    "collapsed": false
   },
   "outputs": [],
   "source": [
    "# Final check to make sure there are no duplicates\n",
    "sql = \"\"\"SELECT *,  COUNT(*)\n",
    "FROM\n",
    "    statcast\n",
    "GROUP BY\n",
    "    game_pk, pitch_id, game_year, inning, outs_when_up, away_team\n",
    "HAVING \n",
    "    COUNT(*) > 1\"\"\"\n",
    "\n",
    "df = pd.read_sql(sql, savant)\n",
    "df"
   ]
  },
  {
   "cell_type": "code",
   "execution_count": null,
   "metadata": {
    "collapsed": true
   },
   "outputs": [],
   "source": []
  }
 ],
 "metadata": {
  "anaconda-cloud": {},
  "kernelspec": {
   "display_name": "Python [drei]",
   "language": "python",
   "name": "Python [drei]"
  },
  "language_info": {
   "codemirror_mode": {
    "name": "ipython",
    "version": 3
   },
   "file_extension": ".py",
   "mimetype": "text/x-python",
   "name": "python",
   "nbconvert_exporter": "python",
   "pygments_lexer": "ipython3",
   "version": "3.5.2"
  }
 },
 "nbformat": 4,
 "nbformat_minor": 0
}
