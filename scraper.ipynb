{
 "cells": [
  {
   "cell_type": "markdown",
   "metadata": {},
   "source": [
    "## Baseball Savant Data Scraping\n",
    "\n",
    "#### Data Details\n",
    "\n",
    "This code pulls data from the Baseball Savant [statcast search tool](https://baseballsavant.mlb.com/statcast_search). It is the equivalent of downloading CSVs from the website. The website limits query time and only returns the first 1,000 observations, so the code loops through query options to pull all of the data from 2008-2016. \n",
    "\n",
    "The code loops through the following characteristic to make sure the queries abide by the website's limitations:\n",
    "   - Years\n",
    "   - Teams (the batting team)\n",
    "   - Home/Away\n",
    "   - Outs\n",
    "   - Innings (1-9 and 10+)\n",
    "   - Handedness (R for righty and L for lefty)\n",
    "    \n",
    "#### Output\n",
    "\n",
    "The loop input changes the link to the data CSV which is read into a dataframe. The entire data source is pretty large, so each dataframe is then appended to a SQLite table. See [metadata](metadata.md).\n",
    "\n",
    "[Return to Main](README.md)"
   ]
  },
  {
   "cell_type": "code",
   "execution_count": null,
   "metadata": {
    "collapsed": true
   },
   "outputs": [],
   "source": [
    "import pandas as pd\n",
    "import sqlite3\n",
    "from tqdm import tqdm\n",
    "import time"
   ]
  },
  {
   "cell_type": "code",
   "execution_count": null,
   "metadata": {
    "collapsed": true
   },
   "outputs": [],
   "source": [
    "# Connect to database\n",
    "savant = sqlite3.connect('BaseballSavant.db')\n",
    "\n",
    "# List of teams\n",
    "teams = ['LAA', 'HOU', 'OAK', 'TOR', 'ATL', 'MIL', 'STL', \n",
    "         'CHC', 'ARI', 'LAD', 'SF', 'CLE', 'SEA', 'MIA', \n",
    "         'NYM', 'WSH', 'BAL', 'SD', 'PHI', 'PIT', 'TEX', \n",
    "         'TB', 'BOS', 'CIN', 'COL', 'KC', 'DET', 'MIN', \n",
    "         'CWS', 'NYY']\n",
    "\n",
    "# List of Home/Road\n",
    "loc = ['Home', 'Road']\n",
    "\n",
    "# List of out combinations\n",
    "outl = ['0', '1', '2%7C3']"
   ]
  },
  {
   "cell_type": "code",
   "execution_count": null,
   "metadata": {
    "collapsed": true
   },
   "outputs": [],
   "source": [
    "# Year loop\n",
    "for year in tqdm(range(2008, 2017), desc = 'Years'):\n",
    "    # Team loop\n",
    "    for team in tqdm(teams, desc = 'Teams', leave = False):\n",
    "        # Home/Away loop\n",
    "        for home_away in tqdm(loc, desc = 'Location', leave = False):\n",
    "            # Inning loop\n",
    "            for inning in tqdm(range(1, 11), desc='Innings', leave=False):\n",
    "                # Outs loop\n",
    "                for outs in tqdm(outl, desc = 'Outs', leave = False):\n",
    "                    # pitcher handedness\n",
    "                    for throws in ['R', 'L']:\n",
    "                        # Query link is based on loop input\n",
    "                        link = 'https://baseballsavant.mlb.com/statcast_search/csv?all=true\\\n",
    "                        &hfGT=R%7CPO%7CS%7C&hfPR=\\\n",
    "                        &season=' + str(year) + '&player_type=batter\\\n",
    "                        &hfOuts=' + outs + '%7C&team=' + team + '&position=&hfRO=\\\n",
    "                        &home_road=' + home_away + '&hfInn=' + str(inning) + '%7C&min_pitches=0\\\n",
    "                        &pitcher_throws=' + throws + '&min_results=0&group_by=name&sort_col=pitches\\\n",
    "                        &player_event_sort=start_speed\\\n",
    "                        &sort_order=desc&min_abs=0&xba_gt=&xba_lt=&px1=&px2=&pz1=&pz2=&ss_gt=&ss_lt=&is_barrel=&type=details&'\n",
    "                        successful = False\n",
    "                        backoff_time = 30\n",
    "                        while not successful:\n",
    "                            try:\n",
    "                                # Read in query CSV as dataframe\n",
    "                                data = pd.read_csv(link)\n",
    "                                # Rename player_name to denote that it is the batter\n",
    "                                data.rename(columns={'player_name': 'batter_name'}, inplace=True)\n",
    "                                # Append the dataframe to the data\n",
    "                                pd.io.sql.to_sql(data, name='statcast', con=savant, if_exists='append')\n",
    "                                successful = True\n",
    "                            except (HTTPError, sqlite3.OperationalError) as e:\n",
    "                                # If there is an error backoff exponentially until there is no longer an error\n",
    "                                for i in tqdm(range(1, backoff_time), desc=\"Backing off \" + str(backoff_time) + \" seconds for error \" + str(e) + \" at \" + str(year) + \" \" + outs + \" \" + team + \" \" + home_away + \" \" + str(inning), leave=False):\n",
    "                                    time.sleep(1)\n",
    "                                backoff_time = min(backoff_time * 2, 60*60)"
   ]
  },
  {
   "cell_type": "code",
   "execution_count": null,
   "metadata": {
    "collapsed": true
   },
   "outputs": [],
   "source": [
    "# Commit and close connection\n",
    "savant.commit() \n",
    "savant.close()"
   ]
  }
 ],
 "metadata": {
  "anaconda-cloud": {},
  "kernelspec": {
   "display_name": "Python 2",
   "language": "python",
   "name": "python2"
  },
  "language_info": {
   "codemirror_mode": {
    "name": "ipython",
    "version": 2
   },
   "file_extension": ".py",
   "mimetype": "text/x-python",
   "name": "python",
   "nbconvert_exporter": "python",
   "pygments_lexer": "ipython2",
   "version": "2.7.11"
  }
 },
 "nbformat": 4,
 "nbformat_minor": 1
}
