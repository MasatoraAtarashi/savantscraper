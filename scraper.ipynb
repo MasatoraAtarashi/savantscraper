{
 "cells": [
  {
   "cell_type": "markdown",
   "metadata": {},
   "source": [
    "## Baseball Savant Data Scraping\n",
    "\n",
    "#### Data Details\n",
    "\n",
    "This code pulls data from the Baseball Savant [statcast search tool](https://baseballsavant.mlb.com/statcast_search). It is the equivalent of downloading CSVs from the website. The website seems to have changed limits on query cost and number of records returned. The script loops through query options to pull all of the data from 2008-2017. \n",
    "\n",
    "The script loops through the following characteristic to make sure the queries abide by the website's limitations:\n",
    "   - Years\n",
    "   - Teams (the batting team)\n",
    "   \n",
    "#### Output\n",
    "\n",
    "The loop input changes the link to the data CSV which is read into a dataframe. The entire data source is large by Excel standards, so each dataframe is then appended to a SQLite table. See [metadata](metadata.md).\n",
    "\n",
    "[Return to Main](README.md)"
   ]
  },
  {
   "cell_type": "code",
   "execution_count": null,
   "metadata": {
    "collapsed": false
   },
   "outputs": [],
   "source": [
    "import pandas as pd\n",
    "import sqlite3\n",
    "from tqdm import tqdm, tqdm_notebook\n",
    "import time\n",
    "from urllib.error import HTTPError"
   ]
  },
  {
   "cell_type": "code",
   "execution_count": null,
   "metadata": {
    "collapsed": true
   },
   "outputs": [],
   "source": [
    "savant = sqlite3.connect('BaseballSavant.db')\n",
    "\n",
    "teams = ['LAA', 'HOU', 'OAK', 'TOR', 'ATL', 'MIL', 'STL', \n",
    "         'CHC', 'ARI', 'LAD', 'SF', 'CLE', 'SEA', 'MIA', \n",
    "         'NYM', 'WSH', 'BAL', 'SD', 'PHI', 'PIT', 'TEX', \n",
    "         'TB', 'BOS', 'CIN', 'COL', 'KC', 'DET', 'MIN', \n",
    "         'CWS', 'NYY']"
   ]
  },
  {
   "cell_type": "code",
   "execution_count": null,
   "metadata": {
    "collapsed": false
   },
   "outputs": [],
   "source": [
    "for year in tqdm_notebook(range(2008, 2017), desc = 'Years'):\n",
    "    for team in tqdm_notebook(teams, desc = 'Teams', leave = False):\n",
    "        # Query link is based on loop\n",
    "        link = 'https://baseballsavant.mlb.com/statcast_search/csv?all=true&hfPT=&hfAB=&hfBBT=&hfPR=&hfZ=&stadium=&hfBBL=&hfNewZones=&hfGT=&hfC=&hfSea=' + str(year) + '%7C&hfSit=&player_type=pitcher&hfOuts=&opponent=&pitcher_throws=&batter_stands=&hfSA=&game_date_gt=&game_date_lt=&team=' + team + '&position=&hfRO=&home_road=&hfFlag=&metric_1=&hfInn=&min_pitches=0&min_results=0&group_by=name-event&sort_col=pitches&player_event_sort=api_p_release_speed&sort_order=desc&min_abs=0&type=details&'\n",
    "        successful = False\n",
    "        backoff_time = 30\n",
    "        while not successful:\n",
    "            try:\n",
    "                data = pd.read_csv(link)\n",
    "                # Rename player_name to denote that it is the pitcher\n",
    "                data.rename(columns={'player_name': 'pitcher_name'}, inplace=True)\n",
    "                # Insert to table\n",
    "                pd.io.sql.to_sql(data, name='statcast', con=savant, if_exists='append')\n",
    "                successful = True\n",
    "            except (HTTPError, sqlite3.OperationalError) as e:\n",
    "                # If there is an error backoff exponentially until there is no longer an error\n",
    "                for i in tqdm_notebook(range(1, backoff_time), desc=\"Backing off \" + str(backoff_time) + \" seconds\", leave=False):\n",
    "                    time.sleep(1)\n",
    "                backoff_time = min(backoff_time * 2, 60*60)"
   ]
  },
  {
   "cell_type": "code",
   "execution_count": null,
   "metadata": {
    "collapsed": true
   },
   "outputs": [],
   "source": [
    "savant.commit() \n",
    "savant.close()"
   ]
  },
  {
   "cell_type": "code",
   "execution_count": null,
   "metadata": {
    "collapsed": true
   },
   "outputs": [],
   "source": []
  }
 ],
 "metadata": {
  "anaconda-cloud": {},
  "kernelspec": {
   "display_name": "Python [default]",
   "language": "python",
   "name": "python3"
  },
  "language_info": {
   "codemirror_mode": {
    "name": "ipython",
    "version": 3
   },
   "file_extension": ".py",
   "mimetype": "text/x-python",
   "name": "python",
   "nbconvert_exporter": "python",
   "pygments_lexer": "ipython3",
   "version": "3.5.2"
  }
 },
 "nbformat": 4,
 "nbformat_minor": 1
}
